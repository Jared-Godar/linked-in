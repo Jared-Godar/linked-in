{
 "cells": [
  {
   "cell_type": "code",
   "execution_count": 1,
   "metadata": {},
   "outputs": [],
   "source": [
    "# Load libraries\n",
    "import pandas as pd\n",
    "import janitor #Clean APIs for data cleaning. Python implementation of R package Janitor\n",
    "import datetime\n",
    "\n",
    "from IPython.core.display import display, HTML\n",
    "from pyvis import network as net #Visualizing network graph\n",
    "import networkx as nx #Create network graph with Python"
   ]
  },
  {
   "cell_type": "code",
   "execution_count": 2,
   "metadata": {},
   "outputs": [],
   "source": [
    "# Load Data\n",
    "df_ori = pd.read_csv('connections.csv', skiprows=2)\n"
   ]
  },
  {
   "cell_type": "code",
   "execution_count": 3,
   "metadata": {},
   "outputs": [
    {
     "name": "stdout",
     "output_type": "stream",
     "text": [
      "<class 'pandas.core.frame.DataFrame'>\n",
      "RangeIndex: 1371 entries, 0 to 1370\n",
      "Data columns (total 6 columns):\n",
      " #   Column         Non-Null Count  Dtype \n",
      "---  ------         --------------  ----- \n",
      " 0   First Name     1357 non-null   object\n",
      " 1   Last Name      1357 non-null   object\n",
      " 2   Email Address  12 non-null     object\n",
      " 3   Company        1336 non-null   object\n",
      " 4   Position       1339 non-null   object\n",
      " 5   Connected On   1371 non-null   object\n",
      "dtypes: object(6)\n",
      "memory usage: 64.4+ KB\n"
     ]
    }
   ],
   "source": [
    "df_ori.info()\n"
   ]
  },
  {
   "cell_type": "code",
   "execution_count": 4,
   "metadata": {},
   "outputs": [
    {
     "data": {
      "text/html": [
       "<div>\n",
       "<style scoped>\n",
       "    .dataframe tbody tr th:only-of-type {\n",
       "        vertical-align: middle;\n",
       "    }\n",
       "\n",
       "    .dataframe tbody tr th {\n",
       "        vertical-align: top;\n",
       "    }\n",
       "\n",
       "    .dataframe thead th {\n",
       "        text-align: right;\n",
       "    }\n",
       "</style>\n",
       "<table border=\"1\" class=\"dataframe\">\n",
       "  <thead>\n",
       "    <tr style=\"text-align: right;\">\n",
       "      <th></th>\n",
       "      <th>company</th>\n",
       "      <th>position</th>\n",
       "      <th>connected_on</th>\n",
       "    </tr>\n",
       "  </thead>\n",
       "  <tbody>\n",
       "    <tr>\n",
       "      <th>0</th>\n",
       "      <td>US Army</td>\n",
       "      <td>Military</td>\n",
       "      <td>2022-02-22</td>\n",
       "    </tr>\n",
       "    <tr>\n",
       "      <th>1</th>\n",
       "      <td>US Navy</td>\n",
       "      <td>Naval Reservist</td>\n",
       "      <td>2022-02-21</td>\n",
       "    </tr>\n",
       "    <tr>\n",
       "      <th>2</th>\n",
       "      <td>RS Leasing, LLC</td>\n",
       "      <td>Payroll Specialist</td>\n",
       "      <td>2022-02-17</td>\n",
       "    </tr>\n",
       "    <tr>\n",
       "      <th>3</th>\n",
       "      <td>Codeup</td>\n",
       "      <td>Data Science Instructor and Curriculum Developer</td>\n",
       "      <td>2022-02-14</td>\n",
       "    </tr>\n",
       "    <tr>\n",
       "      <th>4</th>\n",
       "      <td>CGI</td>\n",
       "      <td>Business Analyst</td>\n",
       "      <td>2022-02-14</td>\n",
       "    </tr>\n",
       "  </tbody>\n",
       "</table>\n",
       "</div>"
      ],
      "text/plain": [
       "           company                                          position  \\\n",
       "0          US Army                                          Military   \n",
       "1          US Navy                                  Naval Reservist    \n",
       "2  RS Leasing, LLC                                Payroll Specialist   \n",
       "3           Codeup  Data Science Instructor and Curriculum Developer   \n",
       "4              CGI                                  Business Analyst   \n",
       "\n",
       "  connected_on  \n",
       "0   2022-02-22  \n",
       "1   2022-02-21  \n",
       "2   2022-02-17  \n",
       "3   2022-02-14  \n",
       "4   2022-02-14  "
      ]
     },
     "execution_count": 4,
     "metadata": {},
     "output_type": "execute_result"
    }
   ],
   "source": [
    "# Data cleaning\n",
    "df = (\n",
    "    df_ori\n",
    "    .clean_names() # remove spacing and capitalization\n",
    "    .drop(columns=['first_name', 'last_name', 'email_address']) # drop for privacy\n",
    "    .dropna(subset=['company', 'position']) # drop missing values in company and position\n",
    "    .to_datetime('connected_on', format='%d %b %Y')\n",
    "  )\n",
    "df.head()"
   ]
  },
  {
   "cell_type": "markdown",
   "metadata": {},
   "source": [
    "### EDA"
   ]
  },
  {
   "cell_type": "code",
   "execution_count": 5,
   "metadata": {},
   "outputs": [
    {
     "data": {
      "image/png": "[encoded data removed]",
      "text/plain": [
       "<Figure size 432x288 with 1 Axes>"
      ]
     },
     "metadata": {
      "needs_background": "light"
     },
     "output_type": "display_data"
    }
   ],
   "source": [
    "# Top 10 companies\n",
    "df['company'].value_counts().head(10).plot(kind=\"barh\").invert_yaxis();\n"
   ]
  },
  {
   "cell_type": "code",
   "execution_count": 6,
   "metadata": {},
   "outputs": [
    {
     "data": {
      "image/png": "[encoded data removed]",
      "text/plain": [
       "<Figure size 432x288 with 1 Axes>"
      ]
     },
     "metadata": {
      "needs_background": "light"
     },
     "output_type": "display_data"
    }
   ],
   "source": [
    "# Top 10 Positions\n",
    "df['position'].value_counts().head(10).plot(kind=\"barh\").invert_yaxis();\n"
   ]
  },
  {
   "cell_type": "code",
   "execution_count": 7,
   "metadata": {},
   "outputs": [
    {
     "data": {
      "image/png": "[encoded data removed]",
      "text/plain": [
       "<Figure size 432x288 with 1 Axes>"
      ]
     },
     "metadata": {
      "needs_background": "light"
     },
     "output_type": "display_data"
    }
   ],
   "source": [
    "# Month Connected\n",
    "df['connected_on'].hist(xrot=35, bins=15);\n"
   ]
  },
  {
   "cell_type": "markdown",
   "metadata": {},
   "source": [
    "### Remove freelance and self-employed"
   ]
  },
  {
   "cell_type": "code",
   "execution_count": 10,
   "metadata": {},
   "outputs": [],
   "source": [
    "pattern = \"freelance|self-employed|self employed\"\n",
    "df = df[~df['company'].str.contains(pattern, case=False)]"
   ]
  },
  {
   "cell_type": "code",
   "execution_count": 11,
   "metadata": {},
   "outputs": [
    {
     "data": {
      "image/png": "[encoded data removed]",
      "text/plain": [
       "<Figure size 432x288 with 1 Axes>"
      ]
     },
     "metadata": {
      "needs_background": "light"
     },
     "output_type": "display_data"
    }
   ],
   "source": [
    "#Re-run top positions\n",
    "\n",
    "df['company'].value_counts().head(10).plot(kind=\"barh\").invert_yaxis();\n"
   ]
  },
  {
   "cell_type": "markdown",
   "metadata": {},
   "source": [
    "### Aggregate sum of connections for companies\n"
   ]
  },
  {
   "cell_type": "code",
   "execution_count": 8,
   "metadata": {},
   "outputs": [
    {
     "data": {
      "text/html": [
       "<div>\n",
       "<style scoped>\n",
       "    .dataframe tbody tr th:only-of-type {\n",
       "        vertical-align: middle;\n",
       "    }\n",
       "\n",
       "    .dataframe tbody tr th {\n",
       "        vertical-align: top;\n",
       "    }\n",
       "\n",
       "    .dataframe thead th {\n",
       "        text-align: right;\n",
       "    }\n",
       "</style>\n",
       "<table border=\"1\" class=\"dataframe\">\n",
       "  <thead>\n",
       "    <tr style=\"text-align: right;\">\n",
       "      <th></th>\n",
       "      <th>company</th>\n",
       "      <th>count</th>\n",
       "    </tr>\n",
       "  </thead>\n",
       "  <tbody>\n",
       "    <tr>\n",
       "      <th>0</th>\n",
       "      <td>Vanderbilt University Medical Center</td>\n",
       "      <td>61</td>\n",
       "    </tr>\n",
       "    <tr>\n",
       "      <th>1</th>\n",
       "      <td>Vanderbilt University</td>\n",
       "      <td>52</td>\n",
       "    </tr>\n",
       "    <tr>\n",
       "      <th>2</th>\n",
       "      <td>Codeup</td>\n",
       "      <td>10</td>\n",
       "    </tr>\n",
       "    <tr>\n",
       "      <th>3</th>\n",
       "      <td>CGI</td>\n",
       "      <td>10</td>\n",
       "    </tr>\n",
       "    <tr>\n",
       "      <th>4</th>\n",
       "      <td>Vanderbilt University School of Medicine</td>\n",
       "      <td>7</td>\n",
       "    </tr>\n",
       "    <tr>\n",
       "      <th>5</th>\n",
       "      <td>Freelance</td>\n",
       "      <td>6</td>\n",
       "    </tr>\n",
       "    <tr>\n",
       "      <th>6</th>\n",
       "      <td>Self Employed</td>\n",
       "      <td>5</td>\n",
       "    </tr>\n",
       "    <tr>\n",
       "      <th>7</th>\n",
       "      <td>Self-employed</td>\n",
       "      <td>5</td>\n",
       "    </tr>\n",
       "    <tr>\n",
       "      <th>12</th>\n",
       "      <td>Mayo Clinic</td>\n",
       "      <td>4</td>\n",
       "    </tr>\n",
       "    <tr>\n",
       "      <th>14</th>\n",
       "      <td>US Navy</td>\n",
       "      <td>4</td>\n",
       "    </tr>\n",
       "  </tbody>\n",
       "</table>\n",
       "</div>"
      ],
      "text/plain": [
       "                                     company  count\n",
       "0       Vanderbilt University Medical Center     61\n",
       "1                      Vanderbilt University     52\n",
       "2                                     Codeup     10\n",
       "3                                        CGI     10\n",
       "4   Vanderbilt University School of Medicine      7\n",
       "5                                  Freelance      6\n",
       "6                              Self Employed      5\n",
       "7                              Self-employed      5\n",
       "12                               Mayo Clinic      4\n",
       "14                                   US Navy      4"
      ]
     },
     "execution_count": 8,
     "metadata": {},
     "output_type": "execute_result"
    }
   ],
   "source": [
    "df_company = df['company'].value_counts().reset_index()\n",
    "df_company.columns = ['company', 'count']\n",
    "df_company = df_company.sort_values(by=\"count\", ascending=False)\n",
    "df_company.head(10)"
   ]
  },
  {
   "cell_type": "markdown",
   "metadata": {},
   "source": [
    "### Aggregate sum of connections for positions\n"
   ]
  },
  {
   "cell_type": "code",
   "execution_count": 9,
   "metadata": {},
   "outputs": [
    {
     "data": {
      "text/html": [
       "<div>\n",
       "<style scoped>\n",
       "    .dataframe tbody tr th:only-of-type {\n",
       "        vertical-align: middle;\n",
       "    }\n",
       "\n",
       "    .dataframe tbody tr th {\n",
       "        vertical-align: top;\n",
       "    }\n",
       "\n",
       "    .dataframe thead th {\n",
       "        text-align: right;\n",
       "    }\n",
       "</style>\n",
       "<table border=\"1\" class=\"dataframe\">\n",
       "  <thead>\n",
       "    <tr style=\"text-align: right;\">\n",
       "      <th></th>\n",
       "      <th>position</th>\n",
       "      <th>count</th>\n",
       "    </tr>\n",
       "  </thead>\n",
       "  <tbody>\n",
       "    <tr>\n",
       "      <th>0</th>\n",
       "      <td>Assistant Professor</td>\n",
       "      <td>24</td>\n",
       "    </tr>\n",
       "    <tr>\n",
       "      <th>1</th>\n",
       "      <td>Owner</td>\n",
       "      <td>19</td>\n",
       "    </tr>\n",
       "    <tr>\n",
       "      <th>2</th>\n",
       "      <td>Research Assistant Professor</td>\n",
       "      <td>14</td>\n",
       "    </tr>\n",
       "    <tr>\n",
       "      <th>3</th>\n",
       "      <td>Associate Professor</td>\n",
       "      <td>13</td>\n",
       "    </tr>\n",
       "    <tr>\n",
       "      <th>4</th>\n",
       "      <td>President</td>\n",
       "      <td>12</td>\n",
       "    </tr>\n",
       "    <tr>\n",
       "      <th>5</th>\n",
       "      <td>Professor</td>\n",
       "      <td>9</td>\n",
       "    </tr>\n",
       "    <tr>\n",
       "      <th>6</th>\n",
       "      <td>Vice President</td>\n",
       "      <td>8</td>\n",
       "    </tr>\n",
       "    <tr>\n",
       "      <th>7</th>\n",
       "      <td>Founder</td>\n",
       "      <td>7</td>\n",
       "    </tr>\n",
       "    <tr>\n",
       "      <th>10</th>\n",
       "      <td>Research Scientist</td>\n",
       "      <td>6</td>\n",
       "    </tr>\n",
       "    <tr>\n",
       "      <th>9</th>\n",
       "      <td>Data Scientist</td>\n",
       "      <td>6</td>\n",
       "    </tr>\n",
       "  </tbody>\n",
       "</table>\n",
       "</div>"
      ],
      "text/plain": [
       "                        position  count\n",
       "0            Assistant Professor     24\n",
       "1                          Owner     19\n",
       "2   Research Assistant Professor     14\n",
       "3            Associate Professor     13\n",
       "4                      President     12\n",
       "5                      Professor      9\n",
       "6                 Vice President      8\n",
       "7                        Founder      7\n",
       "10            Research Scientist      6\n",
       "9                 Data Scientist      6"
      ]
     },
     "execution_count": 9,
     "metadata": {},
     "output_type": "execute_result"
    }
   ],
   "source": [
    "df_position = df['position'].value_counts().reset_index()\n",
    "df_position.columns = ['position', 'count']\n",
    "df_position = df_position.sort_values(by=\"count\", ascending=False)\n",
    "df_position.head(10)"
   ]
  },
  {
   "cell_type": "markdown",
   "metadata": {},
   "source": [
    "---"
   ]
  },
  {
   "cell_type": "markdown",
   "metadata": {},
   "source": [
    "## Creating the Network"
   ]
  },
  {
   "cell_type": "code",
   "execution_count": 10,
   "metadata": {},
   "outputs": [
    {
     "data": {
      "text/html": [
       "<html>\n",
       "<head>\n",
       "<link rel=\"stylesheet\" href=\"https://cdnjs.cloudflare.com/ajax/libs/vis/4.16.1/vis.css\" type=\"text/css\" />\n",
       "<script type=\"text/javascript\" src=\"https://cdnjs.cloudflare.com/ajax/libs/vis/4.16.1/vis-network.min.js\"> </script>\n",
       "<center>\n",
       "<h1></h1>\n",
       "</center>\n",
       "\n",
       "<!-- <link rel=\"stylesheet\" href=\"../node_modules/vis/dist/vis.min.css\" type=\"text/css\" />\n",
       "<script type=\"text/javascript\" src=\"../node_modules/vis/dist/vis.js\"> </script>-->\n",
       "\n",
       "<style type=\"text/css\">\n",
       "\n",
       "        #mynetwork {\n",
       "            width: 500px;\n",
       "            height: 500px;\n",
       "            background-color: #ffffff;\n",
       "            border: 1px solid lightgray;\n",
       "            position: relative;\n",
       "            float: left;\n",
       "        }\n",
       "\n",
       "        \n",
       "\n",
       "        \n",
       "\n",
       "        \n",
       "</style>\n",
       "\n",
       "</head>\n",
       "\n",
       "<body>\n",
       "<div id = \"mynetwork\"></div>\n",
       "\n",
       "\n",
       "<script type=\"text/javascript\">\n",
       "\n",
       "    // initialize global variables.\n",
       "    var edges;\n",
       "    var nodes;\n",
       "    var network; \n",
       "    var container;\n",
       "    var options, data;\n",
       "\n",
       "    \n",
       "    // This method is responsible for drawing the graph, returns the drawn network\n",
       "    function drawGraph() {\n",
       "        var container = document.getElementById('mynetwork');\n",
       "        \n",
       "        \n",
       "\n",
       "        // parsing and collecting nodes and edges from the python\n",
       "        nodes = new vis.DataSet([{\"id\": 0, \"label\": \"root\", \"shape\": \"dot\", \"size\": 10}, {\"id\": 1, \"label\": \"Company 1\", \"shape\": \"dot\", \"size\": 10, \"title\": \"info1\"}, {\"id\": 2, \"label\": \"Company 2\", \"shape\": \"dot\", \"size\": 40, \"title\": \"info2\"}, {\"id\": 3, \"label\": \"Company 3\", \"shape\": \"dot\", \"size\": 60, \"title\": \"info3\"}]);\n",
       "        edges = new vis.DataSet([{\"from\": 0, \"to\": 1, \"weight\": 1}, {\"from\": 0, \"to\": 2, \"weight\": 1}, {\"from\": 0, \"to\": 3, \"weight\": 1}]);\n",
       "\n",
       "        // adding nodes and edges to the graph\n",
       "        data = {nodes: nodes, edges: edges};\n",
       "\n",
       "        var options = {\n",
       "    \"configure\": {\n",
       "        \"enabled\": false\n",
       "    },\n",
       "    \"edges\": {\n",
       "        \"color\": {\n",
       "            \"inherit\": true\n",
       "        },\n",
       "        \"smooth\": {\n",
       "            \"enabled\": false,\n",
       "            \"type\": \"continuous\"\n",
       "        }\n",
       "    },\n",
       "    \"interaction\": {\n",
       "        \"dragNodes\": true,\n",
       "        \"hideEdgesOnDrag\": false,\n",
       "        \"hideNodesOnDrag\": false\n",
       "    },\n",
       "    \"physics\": {\n",
       "        \"enabled\": true,\n",
       "        \"stabilization\": {\n",
       "            \"enabled\": true,\n",
       "            \"fit\": true,\n",
       "            \"iterations\": 1000,\n",
       "            \"onlyDynamicEdges\": false,\n",
       "            \"updateInterval\": 50\n",
       "        }\n",
       "    }\n",
       "};\n",
       "        \n",
       "        \n",
       "\n",
       "        \n",
       "\n",
       "        network = new vis.Network(container, data, options);\n",
       "\t \n",
       "        \n",
       "\n",
       "\n",
       "        \n",
       "\n",
       "        return network;\n",
       "\n",
       "    }\n",
       "\n",
       "    drawGraph();\n",
       "\n",
       "</script>\n",
       "</body>\n",
       "</html>"
      ],
      "text/plain": [
       "<IPython.core.display.HTML object>"
      ]
     },
     "metadata": {},
     "output_type": "display_data"
    }
   ],
   "source": [
    "nt = net.Network(notebook=True)\n",
    "\n",
    "g = nx.Graph()\n",
    "g.add_node(0, label = \"root\") # intialize yourself as central node\n",
    "g.add_node(1, label = \"Company 1\", size=10, title=\"info1\")\n",
    "g.add_node(2, label = \"Company 2\", size=40, title=\"info2\")\n",
    "g.add_node(3, label = \"Company 3\", size=60, title=\"info3\")\n",
    "g.add_edge(0, 1)\n",
    "g.add_edge(0, 2)\n",
    "g.add_edge(0, 3)\n",
    "\n",
    "nt.from_nx(g)\n",
    "nt.show('nodes.html')\n",
    "display(HTML('nodes.html'))"
   ]
  },
  {
   "cell_type": "code",
   "execution_count": 11,
   "metadata": {},
   "outputs": [
    {
     "name": "stdout",
     "output_type": "stream",
     "text": [
      "number of nodes: 4\n",
      "number of edges: 3\n"
     ]
    }
   ],
   "source": [
    "print(f\"number of nodes: {g.number_of_nodes()}\")\n",
    "print(f\"number of edges: {g.number_of_edges()}\")"
   ]
  },
  {
   "cell_type": "code",
   "execution_count": 12,
   "metadata": {},
   "outputs": [
    {
     "name": "stdout",
     "output_type": "stream",
     "text": [
      "Vanderbilt University Medical Center-61\n",
      "Vanderbilt University-52\n",
      "Codeup-10\n",
      "CGI-10\n",
      "Vanderbilt University School of Medicine-7\n"
     ]
    }
   ],
   "source": [
    "for _, row in df_company.head(5).iterrows():\n",
    "  print(row['company'] + \"-\" + str(row['count']))"
   ]
  },
  {
   "cell_type": "code",
   "execution_count": 13,
   "metadata": {},
   "outputs": [
    {
     "name": "stdout",
     "output_type": "stream",
     "text": [
      "(1083, 2)\n",
      "(8, 2)\n"
     ]
    }
   ],
   "source": [
    "print(df_company.shape)\n",
    "df_company_reduced = df_company.loc[df_company['count']>=5]\n",
    "print(df_company_reduced.shape)"
   ]
  },
  {
   "cell_type": "code",
   "execution_count": 14,
   "metadata": {},
   "outputs": [
    {
     "name": "stdout",
     "output_type": "stream",
     "text": [
      "(1098, 2)\n",
      "(14, 2)\n"
     ]
    }
   ],
   "source": [
    "print(df_position.shape)\n",
    "df_position_reduced = df_position.loc[df_position['count']>=5]\n",
    "print(df_position_reduced.shape)"
   ]
  },
  {
   "cell_type": "markdown",
   "metadata": {},
   "source": [
    "### Visualize Network"
   ]
  },
  {
   "cell_type": "code",
   "execution_count": 15,
   "metadata": {},
   "outputs": [
    {
     "data": {
      "text/html": [
       "<html>\n",
       "<head>\n",
       "<link rel=\"stylesheet\" href=\"https://cdnjs.cloudflare.com/ajax/libs/vis/4.16.1/vis.css\" type=\"text/css\" />\n",
       "<script type=\"text/javascript\" src=\"https://cdnjs.cloudflare.com/ajax/libs/vis/4.16.1/vis-network.min.js\"> </script>\n",
       "<center>\n",
       "<h1></h1>\n",
       "</center>\n",
       "\n",
       "<!-- <link rel=\"stylesheet\" href=\"../node_modules/vis/dist/vis.min.css\" type=\"text/css\" />\n",
       "<script type=\"text/javascript\" src=\"../node_modules/vis/dist/vis.js\"> </script>-->\n",
       "\n",
       "<style type=\"text/css\">\n",
       "\n",
       "        #mynetwork {\n",
       "            width: 700px;\n",
       "            height: 700px;\n",
       "            background-color: black;\n",
       "            border: 1px solid lightgray;\n",
       "            position: relative;\n",
       "            float: left;\n",
       "        }\n",
       "\n",
       "        \n",
       "\n",
       "        \n",
       "\n",
       "        \n",
       "</style>\n",
       "\n",
       "</head>\n",
       "\n",
       "<body>\n",
       "<div id = \"mynetwork\"></div>\n",
       "\n",
       "\n",
       "<script type=\"text/javascript\">\n",
       "\n",
       "    // initialize global variables.\n",
       "    var edges;\n",
       "    var nodes;\n",
       "    var network; \n",
       "    var container;\n",
       "    var options, data;\n",
       "\n",
       "    \n",
       "    // This method is responsible for drawing the graph, returns the drawn network\n",
       "    function drawGraph() {\n",
       "        var container = document.getElementById('mynetwork');\n",
       "        \n",
       "        \n",
       "\n",
       "        // parsing and collecting nodes and edges from the python\n",
       "        nodes = new vis.DataSet([{\"font\": {\"color\": \"white\"}, \"id\": \"root\", \"label\": \"root\", \"shape\": \"dot\", \"size\": 10}, {\"color\": \"#3449eb\", \"font\": {\"color\": \"white\"}, \"id\": \"Vanderbilt University Medical Center\", \"label\": \"Vanderbilt University Medical Center\", \"shape\": \"dot\", \"size\": 122, \"title\": \"\\u003cb\\u003eVanderbilt University Medical Center\\u003c/b\\u003e \\u2013 61\\u003cul\\u003e\\u003cli\\u003eLaboratory Manager\\u003c/li\\u003e\\u003cli\\u003eResearch Assistant Professor\\u003c/li\\u003e\\u003cli\\u003eAssociate Vice President, Vanderbilt Health Services\\u003c/li\\u003e\\u003cli\\u003eProfessor of Radiology, Biomedical Engineering, Ophthalmology\\u003c/li\\u003e\\u003cli\\u003eClinical Trials Associate II\\u003c/li\\u003e\\u003cli\\u003eInstructor\\u003c/li\\u003e\\u003cli\\u003eCytogenetic Technologist\\u003c/li\\u003e\\u003cli\\u003eProfessor of Pharmacology\\u003c/li\\u003e\\u003cli\\u003eResearch Fellow\\u003c/li\\u003e\\u003cli\\u003eLead Sponsored Program Specialist\\u003c/li\\u003e\\u003cli\\u003eProfessor\\u003c/li\\u003e\\u003cli\\u003eAssociate Professor\\u003c/li\\u003e\\u003cli\\u003eBudget/Accounting Analyst\\u003c/li\\u003e\\u003cli\\u003eHealth Information Systems Project Manager III\\u003c/li\\u003e\\u003cli\\u003ePreliminary Medical Intern\\u003c/li\\u003e\\u003cli\\u003ePostdoctoral Research Fellow\\u003c/li\\u003e\\u003cli\\u003eDirector, Vanderbilt Vaccine Center\\u003c/li\\u003e\\u003cli\\u003eResident Physician\\u003c/li\\u003e\\u003cli\\u003eDirector of Operations\\u003c/li\\u003e\\u003cli\\u003eTeam Lead\\u003c/li\\u003e\\u003cli\\u003eAssistant Professor, Rheumatology and Immunology, Department of Medicine\\u003c/li\\u003e\\u003cli\\u003eBusiness Support Manager\\u003c/li\\u003e\\u003cli\\u003eGrants Manager\\u003c/li\\u003e\\u003cli\\u003eClinical Fellow - Epilepsy\\u003c/li\\u003e\\u003cli\\u003eResearch Assistant II\\u003c/li\\u003e\\u003cli\\u003eComputer Systems Administrator\\u003c/li\\u003e\\u003cli\\u003eAssociate professor\\u003c/li\\u003e\\u003cli\\u003eDirector, Population Health and Patient Engagement Portfolio\\u003c/li\\u003e\\u003cli\\u003eAssociate Director, Vanderbilt Vaccine Center\\u003c/li\\u003e\\u003cli\\u003eGraduate Student Researcher\\u003c/li\\u003e\\u003cli\\u003eClinical Research Coordinator\\u003c/li\\u003e\\u003cli\\u003eVice Chair Clinical Affairs, Executive Medical Director, Vanderbilt Dermatology\\u003c/li\\u003e\\u003cli\\u003eAssistant Professor of Neurology\\u003c/li\\u003e\\u003cli\\u003eSenior Communications Specialist\\u003c/li\\u003e\\u003cli\\u003eResearch Assistant Professor of Radiology\\u003c/li\\u003e\\u003cli\\u003eRN\\u003c/li\\u003e\\u003cli\\u003ePostdoctoral Researcher\\u003c/li\\u003e\\u003cli\\u003eAileen M. Lange and Annie Mary Lyle Chair in Cardiovascular Research and Professor, Pharmacology\\u003c/li\\u003e\\u003cli\\u003eGraduate Student\\u003c/li\\u003e\\u003cli\\u003eAssistant Professor Of Medicine\\u003c/li\\u003e\\u003cli\\u003eSenior Research Specialist\\u003c/li\\u003e\\u003cli\\u003eDirector, Clinical Informatics Core\\u003c/li\\u003e\\u003cli\\u003eCardiothoracic Anesthesiologist\\u003c/li\\u003e\\u003cli\\u003ePh.D. Candidate Researcher\\u003c/li\\u003e\\u003cli\\u003eResearch Associate Professor\\u003c/li\\u003e\\u003cli\\u003eAssistant Professor\\u003c/li\\u003e\\u003cli\\u003eClinical/Translational Research Coordinator II \\u003c/li\\u003e\\u003cli\\u003eResearch Instructor in Medicine\\u003c/li\\u003e\\u003cli\\u003eAssistant Professor of Pediatrics\\u003c/li\\u003e\\u003c/ul\\u003e\"}, {\"color\": \"#3449eb\", \"font\": {\"color\": \"white\"}, \"id\": \"Vanderbilt University\", \"label\": \"Vanderbilt University\", \"shape\": \"dot\", \"size\": 104, \"title\": \"\\u003cb\\u003eVanderbilt University\\u003c/b\\u003e \\u2013 52\\u003cul\\u003e\\u003cli\\u003eAssistant Professor of Cell and Developmental Biology\\u003c/li\\u003e\\u003cli\\u003eSenior Licensing Officer\\u003c/li\\u003e\\u003cli\\u003eAdministrative Officer - Basic Science Research Administration, POD2\\u003c/li\\u003e\\u003cli\\u003eResearch Assistant Professor\\u003c/li\\u003e\\u003cli\\u003eResearch Associate Professor of Biochemistry \\u0026 Assistant Director, Center for Structural Biology\\u003c/li\\u003e\\u003cli\\u003eProfessor\\u003c/li\\u003e\\u003cli\\u003eProgram Coordinator\\u003c/li\\u003e\\u003cli\\u003eAssociate Professor\\u003c/li\\u003e\\u003cli\\u003eAdministrative Assistant III\\u003c/li\\u003e\\u003cli\\u003eChancellor\\u0027s Chair in Medicine, Professor of Biochemistry and Chemistry\\u003c/li\\u003e\\u003cli\\u003eAssociate Vice Chancellor for University Relations\\u003c/li\\u003e\\u003cli\\u003eAssistant Professor, Medical Education and Administration\\u003c/li\\u003e\\u003cli\\u003eInstructor / Laboratory Manager\\u003c/li\\u003e\\u003cli\\u003eAdministrative Assistant II\\u003c/li\\u003e\\u003cli\\u003eProfessor of Cancer Biology\\u003c/li\\u003e\\u003cli\\u003eDirector, Quantitative Chemical Biology\\u003c/li\\u003e\\u003cli\\u003eChair, Electrical and Computer Engineering\\u003c/li\\u003e\\u003cli\\u003eDrug Discovery Vanderbilt Institute of Imaging Science\\u003c/li\\u003e\\u003cli\\u003eSenior Lecturer\\u003c/li\\u003e\\u003cli\\u003eDirector Client Relations\\u003c/li\\u003e\\u003cli\\u003eDirector, Center for Stem Cell Biology\\u003c/li\\u003e\\u003cli\\u003eAssociate Professor of Radiology and Radiological Sciences\\u003c/li\\u003e\\u003cli\\u003eDepartment Chair\\u003c/li\\u003e\\u003cli\\u003eProgram Manager\\u003c/li\\u003e\\u003cli\\u003eSr. Budget / Accounting Analyst\\u003c/li\\u003e\\u003cli\\u003eDirector, CSB Cryo-Electron Microscopy Facility\\u003c/li\\u003e\\u003cli\\u003eLibrary Clerk\\u003c/li\\u003e\\u003cli\\u003eNurse Pracitioner Family\\u003c/li\\u003e\\u003cli\\u003eProfessor of Chemistry\\u003c/li\\u003e\\u003cli\\u003eAdminstrative Assistant\\u003c/li\\u003e\\u003cli\\u003eAssistant Professor, Department of Pharmacology\\u003c/li\\u003e\\u003cli\\u003eImaging Research Scientist\\u003c/li\\u003e\\u003cli\\u003eResearch Associate Professor\\u003c/li\\u003e\\u003cli\\u003eGraduate student\\u003c/li\\u003e\\u003cli\\u003eAdministrative Officer\\u003c/li\\u003e\\u003cli\\u003eAssociate Director of the Practice of Business Studies\\u003c/li\\u003e\\u003cli\\u003eDirector, Health Professions Advisory Office\\u003c/li\\u003e\\u003cli\\u003eMCBR Core Manager\\u003c/li\\u003e\\u003cli\\u003eAssistant Professor\\u003c/li\\u003e\\u003cli\\u003eOB/GYN housestaff\\u003c/li\\u003e\\u003cli\\u003eAdjunct Assistant Professor of Dermatology\\u003c/li\\u003e\\u003cli\\u003eCore Manager\\u003c/li\\u003e\\u003cli\\u003eAssociate Dean for Research Training \\u0026 Career Development\\u003c/li\\u003e\\u003c/ul\\u003e\"}, {\"color\": \"#3449eb\", \"font\": {\"color\": \"white\"}, \"id\": \"Codeup\", \"label\": \"Codeup\", \"shape\": \"dot\", \"size\": 20, \"title\": \"\\u003cb\\u003eCodeup\\u003c/b\\u003e \\u2013 10\\u003cul\\u003e\\u003cli\\u003eTeaching Assistant, Data Science\\u003c/li\\u003e\\u003cli\\u003eData Science Instructor\\u003c/li\\u003e\\u003cli\\u003eAdmissions Manager\\u003c/li\\u003e\\u003cli\\u003eCEO \\u0026 Co-Founder\\u003c/li\\u003e\\u003cli\\u003eDirector Of Business Development\\u003c/li\\u003e\\u003cli\\u003eVice President of Delivery\\u003c/li\\u003e\\u003cli\\u003eData Scientist\\u003c/li\\u003e\\u003cli\\u003eData Science Instructor and Curriculum Developer\\u003c/li\\u003e\\u003cli\\u003eStudent Fellow\\u003c/li\\u003e\\u003cli\\u003eSr. Data Scientist, Curriculum Development \\u0026 Instruction\\u003c/li\\u003e\\u003c/ul\\u003e\"}, {\"color\": \"#3449eb\", \"font\": {\"color\": \"white\"}, \"id\": \"CGI\", \"label\": \"CGI\", \"shape\": \"dot\", \"size\": 20, \"title\": \"\\u003cb\\u003eCGI\\u003c/b\\u003e \\u2013 10\\u003cul\\u003e\\u003cli\\u003eData Engineer Consultant\\u003c/li\\u003e\\u003cli\\u003eDirector, Consulting Delivery\\u003c/li\\u003e\\u003cli\\u003eSenior Talent Acquisition Partner\\u003c/li\\u003e\\u003cli\\u003eBusiness Analyst\\u003c/li\\u003e\\u003cli\\u003eData Engineer\\u003c/li\\u003e\\u003cli\\u003eForescout and Security Engineer\\u003c/li\\u003e\\u003cli\\u003eData Scientist, Senior Consultant\\u003c/li\\u003e\\u003cli\\u003eTalent Acquisition \\u003c/li\\u003e\\u003c/ul\\u003e\"}, {\"color\": \"#3449eb\", \"font\": {\"color\": \"white\"}, \"id\": \"Vanderbilt University School of Medicine\", \"label\": \"Vanderbilt University School of Medicine\", \"shape\": \"dot\", \"size\": 14, \"title\": \"\\u003cb\\u003eVanderbilt University School of Medicine\\u003c/b\\u003e \\u2013 7\\u003cul\\u003e\\u003cli\\u003eAssistant Professor of Molecular Physiology and Biophysics\\u003c/li\\u003e\\u003cli\\u003eInterim Chair of Molecular Physioogy and Biophysics\\u003c/li\\u003e\\u003cli\\u003eDirector, Vanderbilt Center for Addiction Research\\u003c/li\\u003e\\u003cli\\u003eEdie Carell Johnson Chair and Professor of Pediatric Infectious Diseases\\u003c/li\\u003e\\u003cli\\u003eProject Manager\\u003c/li\\u003e\\u003cli\\u003eAssociate Dean for Medical Alumni Affairs\\u003c/li\\u003e\\u003cli\\u003eAssistant Dean of Biomedical Career Development\\u003c/li\\u003e\\u003c/ul\\u003e\"}, {\"color\": \"#3449eb\", \"font\": {\"color\": \"white\"}, \"id\": \"Freelance\", \"label\": \"Freelance\", \"shape\": \"dot\", \"size\": 12, \"title\": \"\\u003cb\\u003eFreelance\\u003c/b\\u003e \\u2013 6\\u003cul\\u003e\\u003cli\\u003ePhoto Retoucher\\u003c/li\\u003e\\u003cli\\u003eData Science and Machine Learning Consultant\\u003c/li\\u003e\\u003cli\\u003eArt Critic\\u003c/li\\u003e\\u003cli\\u003eAssistant Director\\u003c/li\\u003e\\u003cli\\u003eFreelance\\u003c/li\\u003e\\u003cli\\u003eFreelance Content Writing\\u003c/li\\u003e\\u003c/ul\\u003e\"}, {\"color\": \"#3449eb\", \"font\": {\"color\": \"white\"}, \"id\": \"Self Employed\", \"label\": \"Self Employed\", \"shape\": \"dot\", \"size\": 10, \"title\": \"\\u003cb\\u003eSelf Employed\\u003c/b\\u003e \\u2013 5\\u003cul\\u003e\\u003cli\\u003eIndependent Entrepreneur\\u003c/li\\u003e\\u003cli\\u003eDigital Marketing Specialist\\u003c/li\\u003e\\u003cli\\u003eSeeking sales position\\u003c/li\\u003e\\u003cli\\u003eHuman Resources Consultant\\u003c/li\\u003e\\u003cli\\u003eIndependent Scientific Consultant\\u003c/li\\u003e\\u003c/ul\\u003e\"}, {\"color\": \"#3449eb\", \"font\": {\"color\": \"white\"}, \"id\": \"Self-employed\", \"label\": \"Self-employed\", \"shape\": \"dot\", \"size\": 10, \"title\": \"\\u003cb\\u003eSelf-employed\\u003c/b\\u003e \\u2013 5\\u003cul\\u003e\\u003cli\\u003eHealth Educator\\u003c/li\\u003e\\u003cli\\u003eInvestment Analyst\\u003c/li\\u003e\\u003cli\\u003eBusiness Owner\\u003c/li\\u003e\\u003cli\\u003eData Scientist\\u003c/li\\u003e\\u003cli\\u003ePlatinum Founder Leader \\u0026 Global Team Builder\\u003c/li\\u003e\\u003c/ul\\u003e\"}]);\n",
       "        edges = new vis.DataSet([{\"color\": \"grey\", \"from\": \"root\", \"to\": \"Vanderbilt University Medical Center\", \"weight\": 1}, {\"color\": \"grey\", \"from\": \"root\", \"to\": \"Vanderbilt University\", \"weight\": 1}, {\"color\": \"grey\", \"from\": \"root\", \"to\": \"Codeup\", \"weight\": 1}, {\"color\": \"grey\", \"from\": \"root\", \"to\": \"CGI\", \"weight\": 1}, {\"color\": \"grey\", \"from\": \"root\", \"to\": \"Vanderbilt University School of Medicine\", \"weight\": 1}, {\"color\": \"grey\", \"from\": \"root\", \"to\": \"Freelance\", \"weight\": 1}, {\"color\": \"grey\", \"from\": \"root\", \"to\": \"Self Employed\", \"weight\": 1}, {\"color\": \"grey\", \"from\": \"root\", \"to\": \"Self-employed\", \"weight\": 1}]);\n",
       "\n",
       "        // adding nodes and edges to the graph\n",
       "        data = {nodes: nodes, edges: edges};\n",
       "\n",
       "        var options = {\n",
       "    \"configure\": {\n",
       "        \"enabled\": false\n",
       "    },\n",
       "    \"edges\": {\n",
       "        \"color\": {\n",
       "            \"inherit\": true\n",
       "        },\n",
       "        \"smooth\": {\n",
       "            \"enabled\": false,\n",
       "            \"type\": \"continuous\"\n",
       "        }\n",
       "    },\n",
       "    \"interaction\": {\n",
       "        \"dragNodes\": true,\n",
       "        \"hideEdgesOnDrag\": false,\n",
       "        \"hideNodesOnDrag\": false\n",
       "    },\n",
       "    \"physics\": {\n",
       "        \"enabled\": true,\n",
       "        \"hierarchicalRepulsion\": {\n",
       "            \"centralGravity\": 0.0,\n",
       "            \"damping\": 0.09,\n",
       "            \"nodeDistance\": 120,\n",
       "            \"springConstant\": 0.01,\n",
       "            \"springLength\": 100\n",
       "        },\n",
       "        \"solver\": \"hierarchicalRepulsion\",\n",
       "        \"stabilization\": {\n",
       "            \"enabled\": true,\n",
       "            \"fit\": true,\n",
       "            \"iterations\": 1000,\n",
       "            \"onlyDynamicEdges\": false,\n",
       "            \"updateInterval\": 50\n",
       "        }\n",
       "    }\n",
       "};\n",
       "        \n",
       "        \n",
       "\n",
       "        \n",
       "\n",
       "        network = new vis.Network(container, data, options);\n",
       "\t \n",
       "        \n",
       "\n",
       "\n",
       "        \n",
       "\n",
       "        return network;\n",
       "\n",
       "    }\n",
       "\n",
       "    drawGraph();\n",
       "\n",
       "</script>\n",
       "</body>\n",
       "</html>"
      ],
      "text/plain": [
       "<IPython.core.display.HTML object>"
      ]
     },
     "metadata": {},
     "output_type": "display_data"
    }
   ],
   "source": [
    "# initialize graph\n",
    "g = nx.Graph()\n",
    "g.add_node('root') # intialize yourself as central\n",
    "\n",
    "# use iterrows tp iterate through the data frame\n",
    "for _, row in df_company_reduced.iterrows():\n",
    "\n",
    "  # store company name and count\n",
    "  company = row['company']\n",
    "  count = row['count']\n",
    "\n",
    "  title = f\"<b>{company}</b> – {count}\"\n",
    "  positions = set([x for x in df[company == df['company']]['position']])\n",
    "  positions = ''.join('<li>{}</li>'.format(x) for x in positions)\n",
    "\n",
    "  position_list = f\"<ul>{positions}</ul>\"\n",
    "  hover_info = title + position_list\n",
    "\n",
    "  g.add_node(company, size=count*2, title=hover_info, color='#3449eb')\n",
    "  g.add_edge('root', company, color='grey')\n",
    "\n",
    "# generate the graph\n",
    "nt = net.Network(height='700px', width='700px', bgcolor=\"black\", font_color='white')\n",
    "nt.from_nx(g)\n",
    "nt.hrepulsion()\n",
    "# more customization https://tinyurl.com/yf5lvvdm\n",
    "nt.show('company_graph.html')\n",
    "display(HTML('company_graph.html'))"
   ]
  },
  {
   "cell_type": "code",
   "execution_count": 16,
   "metadata": {},
   "outputs": [
    {
     "data": {
      "text/html": [
       "<html>\n",
       "<head>\n",
       "<link rel=\"stylesheet\" href=\"https://cdnjs.cloudflare.com/ajax/libs/vis/4.16.1/vis.css\" type=\"text/css\" />\n",
       "<script type=\"text/javascript\" src=\"https://cdnjs.cloudflare.com/ajax/libs/vis/4.16.1/vis-network.min.js\"> </script>\n",
       "<center>\n",
       "<h1></h1>\n",
       "</center>\n",
       "\n",
       "<!-- <link rel=\"stylesheet\" href=\"../node_modules/vis/dist/vis.min.css\" type=\"text/css\" />\n",
       "<script type=\"text/javascript\" src=\"../node_modules/vis/dist/vis.js\"> </script>-->\n",
       "\n",
       "<style type=\"text/css\">\n",
       "\n",
       "        #mynetwork {\n",
       "            width: 700px;\n",
       "            height: 700px;\n",
       "            background-color: black;\n",
       "            border: 1px solid lightgray;\n",
       "            position: relative;\n",
       "            float: left;\n",
       "        }\n",
       "\n",
       "        \n",
       "\n",
       "        \n",
       "\n",
       "        \n",
       "</style>\n",
       "\n",
       "</head>\n",
       "\n",
       "<body>\n",
       "<div id = \"mynetwork\"></div>\n",
       "\n",
       "\n",
       "<script type=\"text/javascript\">\n",
       "\n",
       "    // initialize global variables.\n",
       "    var edges;\n",
       "    var nodes;\n",
       "    var network; \n",
       "    var container;\n",
       "    var options, data;\n",
       "\n",
       "    \n",
       "    // This method is responsible for drawing the graph, returns the drawn network\n",
       "    function drawGraph() {\n",
       "        var container = document.getElementById('mynetwork');\n",
       "        \n",
       "        \n",
       "\n",
       "        // parsing and collecting nodes and edges from the python\n",
       "        nodes = new vis.DataSet([{\"font\": {\"color\": \"white\"}, \"id\": \"root\", \"label\": \"root\", \"shape\": \"dot\", \"size\": 10}, {\"color\": \"#3449eb\", \"font\": {\"color\": \"white\"}, \"id\": \"Assistant Professor\", \"label\": \"Assistant Professor\", \"shape\": \"dot\", \"size\": 24, \"title\": \"24\"}, {\"color\": \"#3449eb\", \"font\": {\"color\": \"white\"}, \"id\": \"Owner\", \"label\": \"Owner\", \"shape\": \"dot\", \"size\": 19, \"title\": \"19\"}, {\"color\": \"#3449eb\", \"font\": {\"color\": \"white\"}, \"id\": \"Research Assistant Professor\", \"label\": \"Research Assistant Professor\", \"shape\": \"dot\", \"size\": 14, \"title\": \"14\"}, {\"color\": \"#3449eb\", \"font\": {\"color\": \"white\"}, \"id\": \"Associate Professor\", \"label\": \"Associate Professor\", \"shape\": \"dot\", \"size\": 13, \"title\": \"13\"}, {\"color\": \"#3449eb\", \"font\": {\"color\": \"white\"}, \"id\": \"President\", \"label\": \"President\", \"shape\": \"dot\", \"size\": 12, \"title\": \"12\"}, {\"color\": \"#3449eb\", \"font\": {\"color\": \"white\"}, \"id\": \"Professor\", \"label\": \"Professor\", \"shape\": \"dot\", \"size\": 9, \"title\": \"9\"}, {\"color\": \"#3449eb\", \"font\": {\"color\": \"white\"}, \"id\": \"Vice President\", \"label\": \"Vice President\", \"shape\": \"dot\", \"size\": 8, \"title\": \"8\"}, {\"color\": \"#3449eb\", \"font\": {\"color\": \"white\"}, \"id\": \"Founder\", \"label\": \"Founder\", \"shape\": \"dot\", \"size\": 7, \"title\": \"7\"}, {\"color\": \"#3449eb\", \"font\": {\"color\": \"white\"}, \"id\": \"Research Scientist\", \"label\": \"Research Scientist\", \"shape\": \"dot\", \"size\": 6, \"title\": \"6\"}, {\"color\": \"#3449eb\", \"font\": {\"color\": \"white\"}, \"id\": \"Data Scientist\", \"label\": \"Data Scientist\", \"shape\": \"dot\", \"size\": 6, \"title\": \"6\"}, {\"color\": \"#3449eb\", \"font\": {\"color\": \"white\"}, \"id\": \"CEO\", \"label\": \"CEO\", \"shape\": \"dot\", \"size\": 6, \"title\": \"6\"}, {\"color\": \"#3449eb\", \"font\": {\"color\": \"white\"}, \"id\": \"Director\", \"label\": \"Director\", \"shape\": \"dot\", \"size\": 5, \"title\": \"5\"}, {\"color\": \"#3449eb\", \"font\": {\"color\": \"white\"}, \"id\": \"Attorney\", \"label\": \"Attorney\", \"shape\": \"dot\", \"size\": 5, \"title\": \"5\"}, {\"color\": \"#3449eb\", \"font\": {\"color\": \"white\"}, \"id\": \"Research Associate Professor\", \"label\": \"Research Associate Professor\", \"shape\": \"dot\", \"size\": 5, \"title\": \"5\"}]);\n",
       "        edges = new vis.DataSet([{\"color\": \"grey\", \"from\": \"root\", \"to\": \"Assistant Professor\", \"weight\": 1}, {\"color\": \"grey\", \"from\": \"root\", \"to\": \"Owner\", \"weight\": 1}, {\"color\": \"grey\", \"from\": \"root\", \"to\": \"Research Assistant Professor\", \"weight\": 1}, {\"color\": \"grey\", \"from\": \"root\", \"to\": \"Associate Professor\", \"weight\": 1}, {\"color\": \"grey\", \"from\": \"root\", \"to\": \"President\", \"weight\": 1}, {\"color\": \"grey\", \"from\": \"root\", \"to\": \"Professor\", \"weight\": 1}, {\"color\": \"grey\", \"from\": \"root\", \"to\": \"Vice President\", \"weight\": 1}, {\"color\": \"grey\", \"from\": \"root\", \"to\": \"Founder\", \"weight\": 1}, {\"color\": \"grey\", \"from\": \"root\", \"to\": \"Research Scientist\", \"weight\": 1}, {\"color\": \"grey\", \"from\": \"root\", \"to\": \"Data Scientist\", \"weight\": 1}, {\"color\": \"grey\", \"from\": \"root\", \"to\": \"CEO\", \"weight\": 1}, {\"color\": \"grey\", \"from\": \"root\", \"to\": \"Director\", \"weight\": 1}, {\"color\": \"grey\", \"from\": \"root\", \"to\": \"Attorney\", \"weight\": 1}, {\"color\": \"grey\", \"from\": \"root\", \"to\": \"Research Associate Professor\", \"weight\": 1}]);\n",
       "\n",
       "        // adding nodes and edges to the graph\n",
       "        data = {nodes: nodes, edges: edges};\n",
       "\n",
       "        var options = {\n",
       "    \"configure\": {\n",
       "        \"enabled\": false\n",
       "    },\n",
       "    \"edges\": {\n",
       "        \"color\": {\n",
       "            \"inherit\": true\n",
       "        },\n",
       "        \"smooth\": {\n",
       "            \"enabled\": false,\n",
       "            \"type\": \"continuous\"\n",
       "        }\n",
       "    },\n",
       "    \"interaction\": {\n",
       "        \"dragNodes\": true,\n",
       "        \"hideEdgesOnDrag\": false,\n",
       "        \"hideNodesOnDrag\": false\n",
       "    },\n",
       "    \"physics\": {\n",
       "        \"enabled\": true,\n",
       "        \"hierarchicalRepulsion\": {\n",
       "            \"centralGravity\": 0.0,\n",
       "            \"damping\": 0.09,\n",
       "            \"nodeDistance\": 120,\n",
       "            \"springConstant\": 0.01,\n",
       "            \"springLength\": 100\n",
       "        },\n",
       "        \"solver\": \"hierarchicalRepulsion\",\n",
       "        \"stabilization\": {\n",
       "            \"enabled\": true,\n",
       "            \"fit\": true,\n",
       "            \"iterations\": 1000,\n",
       "            \"onlyDynamicEdges\": false,\n",
       "            \"updateInterval\": 50\n",
       "        }\n",
       "    }\n",
       "};\n",
       "        \n",
       "        \n",
       "\n",
       "        \n",
       "\n",
       "        network = new vis.Network(container, data, options);\n",
       "\t \n",
       "        \n",
       "\n",
       "\n",
       "        \n",
       "\n",
       "        return network;\n",
       "\n",
       "    }\n",
       "\n",
       "    drawGraph();\n",
       "\n",
       "</script>\n",
       "</body>\n",
       "</html>"
      ],
      "text/plain": [
       "<IPython.core.display.HTML object>"
      ]
     },
     "metadata": {},
     "output_type": "display_data"
    }
   ],
   "source": [
    "# initialize graph\n",
    "g = nx.Graph()\n",
    "g.add_node('root') # intialize yourself as central\n",
    "\n",
    "# use iterrows tp iterate through the data frame\n",
    "for _, row in df_position_reduced.iterrows():\n",
    "\n",
    "  count = f\"{row['count']}\"\n",
    "  position= row['position']\n",
    "  \n",
    "  g.add_node(position, size=count, color='#3449eb', title=count)\n",
    "  g.add_edge('root', position, color='grey')\n",
    "\n",
    "# generate the graph\n",
    "nt = net.Network(height='700px', width='700px', bgcolor=\"black\", font_color='white')\n",
    "nt.from_nx(g)\n",
    "nt.hrepulsion()\n",
    "# more customization https://tinyurl.com/yf5lvvdm\n",
    "nt.show('position_graph.html')\n",
    "display(HTML('position_graph.html'))"
   ]
  },
  {
   "cell_type": "code",
   "execution_count": null,
   "metadata": {},
   "outputs": [],
   "source": []
  }
 ],
 "metadata": {
  "interpreter": {
   "hash": "38cca0c38332a56087b24af0bc80247f4fced29cb4f7f437d91dc159adec9c4e"
  },
  "kernelspec": {
   "display_name": "Python 3.8.12 ('base')",
   "language": "python",
   "name": "python3"
  },
  "language_info": {
   "codemirror_mode": {
    "name": "ipython",
    "version": 3
   },
   "file_extension": ".py",
   "mimetype": "text/x-python",
   "name": "python",
   "nbconvert_exporter": "python",
   "pygments_lexer": "ipython3",
   "version": "3.8.12"
  },
  "orig_nbformat": 4
 },
 "nbformat": 4,
 "nbformat_minor": 2
}
